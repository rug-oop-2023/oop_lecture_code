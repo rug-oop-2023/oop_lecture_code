{
 "cells": [
  {
   "cell_type": "code",
   "execution_count": 1,
   "metadata": {},
   "outputs": [],
   "source": [
    "import numpy as np"
   ]
  },
  {
   "cell_type": "code",
   "execution_count": null,
   "metadata": {},
   "outputs": [],
   "source": [
    "class KNearestNeighbor:\n",
    "    '''\n",
    "    A toy KNN classifier.\n",
    "\n",
    "    k and data are all passed at initialization and are private attributes.\n",
    "    '''\n",
    "    def __init__(self, k:int, data:np.ndarray) -> None:\n",
    "        self._k = k\n",
    "        self._data = data\n",
    "    \n",
    "    def predict(self, x:np.ndarray) -> np.ndarray:\n",
    "        pass\n",
    "\n",
    "    "
   ]
  },
  {
   "cell_type": "markdown",
   "metadata": {},
   "source": [
    "How to implement a getter for `_k` and `_data`?\n",
    "\n",
    "Is it safe to create something like\n",
    "\n",
    "```python\n",
    "def get_k(self):\n",
    "    return self._k\n",
    "```\n",
    "\n",
    "and \n",
    "\n",
    "```python\n",
    "def get_data(self):\n",
    "    return self._data\n",
    "```\n",
    "\n",
    "?\n",
    "\n",
    "Let's try"
   ]
  },
  {
   "cell_type": "code",
   "execution_count": 8,
   "metadata": {},
   "outputs": [
    {
     "name": "stdout",
     "output_type": "stream",
     "text": [
      "3\n",
      "[[1 2 3]\n",
      " [4 5 6]]\n"
     ]
    }
   ],
   "source": [
    "class KNearestNeighbor:\n",
    "    '''\n",
    "    A toy KNN classifier.\n",
    "\n",
    "    k and data are all passed at initialization and are private attributes.\n",
    "    '''\n",
    "    def __init__(self, k:int, data:np.ndarray) -> None:\n",
    "        self._k = k\n",
    "        self._data = data\n",
    "    \n",
    "    def predict(self, x:np.ndarray) -> np.ndarray:\n",
    "        pass\n",
    "\n",
    "    def get_k(self) -> int:\n",
    "        return self._k\n",
    "    \n",
    "    def get_data(self) -> np.ndarray:\n",
    "        return self._data\n",
    "\n",
    "\n",
    "knn = KNearestNeighbor(3, np.array([[1,2,3], [4,5,6]]))\n",
    "\n",
    "k = knn.get_k()\n",
    "print(k)\n",
    "\n",
    "data = knn.get_data()\n",
    "print(data)"
   ]
  },
  {
   "cell_type": "markdown",
   "metadata": {},
   "source": [
    "So far so good, but is it really safe?\n",
    "Since `_k` and `_data` are private, I would not want to modify it via the getter.\n",
    "\n",
    "Let's try to modify `k` and `data` and see what happens"
   ]
  },
  {
   "cell_type": "code",
   "execution_count": 9,
   "metadata": {},
   "outputs": [],
   "source": [
    "k = 5\n",
    "data = data + 1"
   ]
  },
  {
   "cell_type": "markdown",
   "metadata": {},
   "source": [
    "What happens inside `knn`?"
   ]
  },
  {
   "cell_type": "code",
   "execution_count": 10,
   "metadata": {},
   "outputs": [
    {
     "name": "stdout",
     "output_type": "stream",
     "text": [
      "3\n",
      "[[1 2 3]\n",
      " [4 5 6]]\n"
     ]
    }
   ],
   "source": [
    "print(knn.get_k())\n",
    "print(knn.get_data())"
   ]
  },
  {
   "cell_type": "markdown",
   "metadata": {},
   "source": [
    "Notice that this behavior doesn't happen with `data` because it is a `numpy` array.\n",
    "With other types, such as `list`, a reference to the list is returned by the getter, so it is possible to modify the list and reflect the changes in the object."
   ]
  },
  {
   "cell_type": "code",
   "execution_count": 11,
   "metadata": {},
   "outputs": [],
   "source": [
    "class KNearestNeighbor:\n",
    "    '''\n",
    "    A toy KNN classifier.\n",
    "\n",
    "    k and data are all passed at initialization and are private attributes.\n",
    "    '''\n",
    "    def __init__(self, k:int, data:np.ndarray) -> None:\n",
    "        self._k = k\n",
    "        self._data = data\n",
    "        self._internal_list = [1,2,3]\n",
    "    \n",
    "    def predict(self, x:np.ndarray) -> np.ndarray:\n",
    "        pass\n",
    "\n",
    "    def get_k(self) -> int:\n",
    "        return self._k\n",
    "    \n",
    "    def get_data(self) -> np.ndarray:\n",
    "        return self._data\n",
    "\n",
    "    def get_list(self) -> list:\n",
    "        return self._internal_list"
   ]
  },
  {
   "cell_type": "code",
   "execution_count": 14,
   "metadata": {},
   "outputs": [
    {
     "name": "stdout",
     "output_type": "stream",
     "text": [
      "[1, 2, 3]\n",
      "[1, 2, 3, 4]\n",
      "[1, 2, 3, 4]\n"
     ]
    }
   ],
   "source": [
    "knn2 = KNearestNeighbor(3, np.array([[1,2,3], [4,5,6]]))\n",
    "list_ = knn2.get_list()\n",
    "print(list_)\n",
    "list_.append(4)\n",
    "print(list_)\n",
    "print(knn2.get_list())"
   ]
  },
  {
   "cell_type": "markdown",
   "metadata": {},
   "source": [
    "`list_` and `knn.get_list()` reference the same object, so this is not the proper way to program the getter.\n",
    "\n",
    "We need to return a **copy** of the list.\n",
    "This can be done by using the `deepcopy` function from the `copy` module, which enables us to create a full copy of any Python object."
   ]
  },
  {
   "cell_type": "code",
   "execution_count": 15,
   "metadata": {},
   "outputs": [],
   "source": [
    "from copy import deepcopy\n",
    "\n",
    "class KNearestNeighbor:\n",
    "    '''\n",
    "    A toy KNN classifier.\n",
    "\n",
    "    k and data are all passed at initialization and are private attributes.\n",
    "    '''\n",
    "    def __init__(self, k:int, data:np.ndarray) -> None:\n",
    "        self._k = k\n",
    "        self._data = data\n",
    "        self._internal_list = [1,2,3]\n",
    "    \n",
    "    def predict(self, x:np.ndarray) -> np.ndarray:\n",
    "        pass\n",
    "\n",
    "    def get_k(self) -> int:\n",
    "        return self._k\n",
    "    \n",
    "    def get_data(self) -> np.ndarray:\n",
    "        return self._data\n",
    "\n",
    "    def get_list(self) -> list:\n",
    "        return deepcopy(self._internal_list)"
   ]
  },
  {
   "cell_type": "markdown",
   "metadata": {},
   "source": [
    "Now we can see what happens by running the code again"
   ]
  },
  {
   "cell_type": "code",
   "execution_count": 16,
   "metadata": {},
   "outputs": [
    {
     "name": "stdout",
     "output_type": "stream",
     "text": [
      "[1, 2, 3]\n",
      "[1, 2, 3, 4]\n",
      "[1, 2, 3]\n"
     ]
    }
   ],
   "source": [
    "knn3 = KNearestNeighbor(3, np.array([[1,2,3], [4,5,6]]))\n",
    "list_ = knn3.get_list()\n",
    "print(list_)\n",
    "list_.append(4)\n",
    "print(list_)\n",
    "print(knn3.get_list())"
   ]
  },
  {
   "cell_type": "markdown",
   "metadata": {},
   "source": [
    "Now `list_` and `knn3._internal_list` are two distinct objects, so we can modify `list_` without affecting `knn3._internal_list`.\n",
    "\n",
    "If we want to allow the users to safely modify some private attributes, we can create a setter implementing a specific logic for the attribute.\n",
    "For instance, we know that `k` in kNN should be larger than 0."
   ]
  },
  {
   "cell_type": "code",
   "execution_count": 17,
   "metadata": {},
   "outputs": [],
   "source": [
    "class KNearestNeighbor:\n",
    "    '''\n",
    "    A toy KNN classifier.\n",
    "\n",
    "    k and data are all passed at initialization and are private attributes.\n",
    "    '''\n",
    "    def __init__(self, k:int, data:np.ndarray) -> None:\n",
    "        self.set_k(k)\n",
    "        self._data = data\n",
    "        self._internal_list = [1,2,3]\n",
    "    \n",
    "    def predict(self, x:np.ndarray) -> np.ndarray:\n",
    "        pass\n",
    "\n",
    "    def get_k(self) -> int:\n",
    "        return self._k\n",
    "    \n",
    "    def set_k(self, k:int) -> None:\n",
    "        if k < 1:\n",
    "            raise ValueError(\"k must be greater than 0\")\n",
    "        self._k = k\n",
    "    \n",
    "    def get_data(self) -> np.ndarray:\n",
    "        return self._data\n",
    "\n",
    "    def get_list(self) -> list:\n",
    "        return deepcopy(self._internal_list)\n"
   ]
  },
  {
   "cell_type": "markdown",
   "metadata": {},
   "source": [
    "Notice how we have changed the `__init__` part for setting k, so that we can re-apply the logic of the setter (checking for positive values of `k`) also in the constructor.\n",
    "\n",
    "Let's see it in action:"
   ]
  },
  {
   "cell_type": "code",
   "execution_count": 18,
   "metadata": {},
   "outputs": [
    {
     "name": "stdout",
     "output_type": "stream",
     "text": [
      "3\n",
      "12\n"
     ]
    },
    {
     "ename": "ValueError",
     "evalue": "k must be greater than 0",
     "output_type": "error",
     "traceback": [
      "\u001b[0;31m---------------------------------------------------------------------------\u001b[0m",
      "\u001b[0;31mValueError\u001b[0m                                Traceback (most recent call last)",
      "\u001b[1;32m/home/marco/Documents/oop_lecture_code/code/getters_setters.ipynb Cell 19\u001b[0m line \u001b[0;36m5\n\u001b[1;32m      <a href='vscode-notebook-cell:/home/marco/Documents/oop_lecture_code/code/getters_setters.ipynb#X24sZmlsZQ%3D%3D?line=2'>3</a>\u001b[0m knn5\u001b[39m.\u001b[39mset_k(\u001b[39m12\u001b[39m)\n\u001b[1;32m      <a href='vscode-notebook-cell:/home/marco/Documents/oop_lecture_code/code/getters_setters.ipynb#X24sZmlsZQ%3D%3D?line=3'>4</a>\u001b[0m \u001b[39mprint\u001b[39m(knn5\u001b[39m.\u001b[39mget_k())\n\u001b[0;32m----> <a href='vscode-notebook-cell:/home/marco/Documents/oop_lecture_code/code/getters_setters.ipynb#X24sZmlsZQ%3D%3D?line=4'>5</a>\u001b[0m knn5\u001b[39m.\u001b[39;49mset_k(\u001b[39m0\u001b[39;49m)\n",
      "\u001b[1;32m/home/marco/Documents/oop_lecture_code/code/getters_setters.ipynb Cell 19\u001b[0m line \u001b[0;36m2\n\u001b[1;32m     <a href='vscode-notebook-cell:/home/marco/Documents/oop_lecture_code/code/getters_setters.ipynb#X24sZmlsZQ%3D%3D?line=17'>18</a>\u001b[0m \u001b[39mdef\u001b[39;00m \u001b[39mset_k\u001b[39m(\u001b[39mself\u001b[39m, k:\u001b[39mint\u001b[39m) \u001b[39m-\u001b[39m\u001b[39m>\u001b[39m \u001b[39mNone\u001b[39;00m:\n\u001b[1;32m     <a href='vscode-notebook-cell:/home/marco/Documents/oop_lecture_code/code/getters_setters.ipynb#X24sZmlsZQ%3D%3D?line=18'>19</a>\u001b[0m     \u001b[39mif\u001b[39;00m k \u001b[39m<\u001b[39m \u001b[39m1\u001b[39m:\n\u001b[0;32m---> <a href='vscode-notebook-cell:/home/marco/Documents/oop_lecture_code/code/getters_setters.ipynb#X24sZmlsZQ%3D%3D?line=19'>20</a>\u001b[0m         \u001b[39mraise\u001b[39;00m \u001b[39mValueError\u001b[39;00m(\u001b[39m\"\u001b[39m\u001b[39mk must be greater than 0\u001b[39m\u001b[39m\"\u001b[39m)\n\u001b[1;32m     <a href='vscode-notebook-cell:/home/marco/Documents/oop_lecture_code/code/getters_setters.ipynb#X24sZmlsZQ%3D%3D?line=20'>21</a>\u001b[0m     \u001b[39mself\u001b[39m\u001b[39m.\u001b[39m_k \u001b[39m=\u001b[39m k\n",
      "\u001b[0;31mValueError\u001b[0m: k must be greater than 0"
     ]
    }
   ],
   "source": [
    "knn5 = KNearestNeighbor(3, np.array([[1,2,3], [4,5,6]]))\n",
    "print(knn5.get_k())\n",
    "knn5.set_k(12)\n",
    "print(knn5.get_k())\n",
    "knn5.set_k(0)"
   ]
  }
 ],
 "metadata": {
  "kernelspec": {
   "display_name": "tf-unc",
   "language": "python",
   "name": "python3"
  },
  "language_info": {
   "codemirror_mode": {
    "name": "ipython",
    "version": 3
   },
   "file_extension": ".py",
   "mimetype": "text/x-python",
   "name": "python",
   "nbconvert_exporter": "python",
   "pygments_lexer": "ipython3",
   "version": "3.11.4"
  }
 },
 "nbformat": 4,
 "nbformat_minor": 2
}
